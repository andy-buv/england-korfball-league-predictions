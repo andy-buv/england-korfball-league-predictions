{
 "cells": [
  {
   "cell_type": "markdown",
   "metadata": {},
   "source": [
    "Predicting Korfball Results with Statistical Modelling\n",
    "======\n",
    "*Description*\n",
    "\n",
    "[Rework of Predicting Football Results with Statistical Modelling by David Sheehan](https://dashee87.github.io/football/python/predicting-football-results-with-statistical-modelling/)\n",
    "\n",
    "Introduction\n",
    "\n",
    "## Poisson Distribution\n",
    "\n",
    "The model is founded on the number of goals scored/conceded by each team. Teams that have been higher scorers in the past have a greater likelihood of scoring goals in the future. We'll import all match results from the concluded National League (2018/19) Season."
   ]
  },
  {
   "cell_type": "code",
   "execution_count": 1,
   "metadata": {},
   "outputs": [],
   "source": [
    "import pandas as pd\n",
    "import matplotlib.pyplot as plt\n",
    "import numpy as np\n",
    "import seaborn as sns\n",
    "from scipy.stats import poisson, skellam\n",
    "%matplotlib inline\n",
    "\n",
    "DATA_DIR = '../data/'\n",
    "\n",
    "nl_1819 = pd.read_csv(DATA_DIR + 'all_data.csv', index_col=0)\n",
    "nl_1819 = nl_1819.loc[nl_1819.Season == '2018/19'].copy().reset_index(drop=True)"
   ]
  },
  {
   "cell_type": "code",
   "execution_count": 2,
   "metadata": {},
   "outputs": [],
   "source": [
    "nl_1819 = nl_1819[['Home Team', 'Away Team', 'Home Score', 'Away Score']].copy()"
   ]
  },
  {
   "cell_type": "code",
   "execution_count": 3,
   "metadata": {},
   "outputs": [
    {
     "data": {
      "text/html": [
       "<div>\n",
       "<style scoped>\n",
       "    .dataframe tbody tr th:only-of-type {\n",
       "        vertical-align: middle;\n",
       "    }\n",
       "\n",
       "    .dataframe tbody tr th {\n",
       "        vertical-align: top;\n",
       "    }\n",
       "\n",
       "    .dataframe thead th {\n",
       "        text-align: right;\n",
       "    }\n",
       "</style>\n",
       "<table border=\"1\" class=\"dataframe\">\n",
       "  <thead>\n",
       "    <tr style=\"text-align: right;\">\n",
       "      <th></th>\n",
       "      <th>Home Team</th>\n",
       "      <th>Away Team</th>\n",
       "      <th>Home Score</th>\n",
       "      <th>Away Score</th>\n",
       "    </tr>\n",
       "  </thead>\n",
       "  <tbody>\n",
       "    <tr>\n",
       "      <th>0</th>\n",
       "      <td>Bristol Thunder 1</td>\n",
       "      <td>Nomads 1</td>\n",
       "      <td>20.0</td>\n",
       "      <td>21.0</td>\n",
       "    </tr>\n",
       "    <tr>\n",
       "      <th>1</th>\n",
       "      <td>Kingfisher 1</td>\n",
       "      <td>KV 1</td>\n",
       "      <td>23.0</td>\n",
       "      <td>17.0</td>\n",
       "    </tr>\n",
       "    <tr>\n",
       "      <th>2</th>\n",
       "      <td>Trojans 1</td>\n",
       "      <td>Tornadoes 1</td>\n",
       "      <td>21.0</td>\n",
       "      <td>14.0</td>\n",
       "    </tr>\n",
       "    <tr>\n",
       "      <th>3</th>\n",
       "      <td>Cambridge Tigers 1</td>\n",
       "      <td>Birmingham City 1</td>\n",
       "      <td>13.0</td>\n",
       "      <td>15.0</td>\n",
       "    </tr>\n",
       "    <tr>\n",
       "      <th>4</th>\n",
       "      <td>Bec 1</td>\n",
       "      <td>Norwich Knights 1</td>\n",
       "      <td>16.0</td>\n",
       "      <td>22.0</td>\n",
       "    </tr>\n",
       "  </tbody>\n",
       "</table>\n",
       "</div>"
      ],
      "text/plain": [
       "            Home Team          Away Team  Home Score  Away Score\n",
       "0   Bristol Thunder 1           Nomads 1        20.0        21.0\n",
       "1        Kingfisher 1               KV 1        23.0        17.0\n",
       "2           Trojans 1        Tornadoes 1        21.0        14.0\n",
       "3  Cambridge Tigers 1  Birmingham City 1        13.0        15.0\n",
       "4               Bec 1  Norwich Knights 1        16.0        22.0"
      ]
     },
     "execution_count": 3,
     "metadata": {},
     "output_type": "execute_result"
    }
   ],
   "source": [
    "nl_1819.head()"
   ]
  },
  {
   "cell_type": "code",
   "execution_count": 4,
   "metadata": {},
   "outputs": [
    {
     "data": {
      "text/html": [
       "<div>\n",
       "<style scoped>\n",
       "    .dataframe tbody tr th:only-of-type {\n",
       "        vertical-align: middle;\n",
       "    }\n",
       "\n",
       "    .dataframe tbody tr th {\n",
       "        vertical-align: top;\n",
       "    }\n",
       "\n",
       "    .dataframe thead th {\n",
       "        text-align: right;\n",
       "    }\n",
       "</style>\n",
       "<table border=\"1\" class=\"dataframe\">\n",
       "  <thead>\n",
       "    <tr style=\"text-align: right;\">\n",
       "      <th></th>\n",
       "      <th>Home Team</th>\n",
       "      <th>Away Team</th>\n",
       "      <th>Home Score</th>\n",
       "      <th>Away Score</th>\n",
       "    </tr>\n",
       "  </thead>\n",
       "  <tbody>\n",
       "    <tr>\n",
       "      <th>0</th>\n",
       "      <td>Bristol Thunder 1</td>\n",
       "      <td>Nomads 1</td>\n",
       "      <td>20.0</td>\n",
       "      <td>21.0</td>\n",
       "    </tr>\n",
       "    <tr>\n",
       "      <th>1</th>\n",
       "      <td>Kingfisher 1</td>\n",
       "      <td>KV 1</td>\n",
       "      <td>23.0</td>\n",
       "      <td>17.0</td>\n",
       "    </tr>\n",
       "    <tr>\n",
       "      <th>2</th>\n",
       "      <td>Trojans 1</td>\n",
       "      <td>Tornadoes 1</td>\n",
       "      <td>21.0</td>\n",
       "      <td>14.0</td>\n",
       "    </tr>\n",
       "    <tr>\n",
       "      <th>3</th>\n",
       "      <td>Cambridge Tigers 1</td>\n",
       "      <td>Birmingham City 1</td>\n",
       "      <td>13.0</td>\n",
       "      <td>15.0</td>\n",
       "    </tr>\n",
       "    <tr>\n",
       "      <th>4</th>\n",
       "      <td>Bec 1</td>\n",
       "      <td>Norwich Knights 1</td>\n",
       "      <td>16.0</td>\n",
       "      <td>22.0</td>\n",
       "    </tr>\n",
       "    <tr>\n",
       "      <th>...</th>\n",
       "      <td>...</td>\n",
       "      <td>...</td>\n",
       "      <td>...</td>\n",
       "      <td>...</td>\n",
       "    </tr>\n",
       "    <tr>\n",
       "      <th>85</th>\n",
       "      <td>Birmingham City 1</td>\n",
       "      <td>Kingfisher 1</td>\n",
       "      <td>14.0</td>\n",
       "      <td>23.0</td>\n",
       "    </tr>\n",
       "    <tr>\n",
       "      <th>86</th>\n",
       "      <td>Nomads 1</td>\n",
       "      <td>Tornadoes 1</td>\n",
       "      <td>29.0</td>\n",
       "      <td>35.0</td>\n",
       "    </tr>\n",
       "    <tr>\n",
       "      <th>87</th>\n",
       "      <td>Norwich Knights 1</td>\n",
       "      <td>Bec 1</td>\n",
       "      <td>16.0</td>\n",
       "      <td>20.0</td>\n",
       "    </tr>\n",
       "    <tr>\n",
       "      <th>88</th>\n",
       "      <td>Trojans 1</td>\n",
       "      <td>Kingfisher 1</td>\n",
       "      <td>31.0</td>\n",
       "      <td>11.0</td>\n",
       "    </tr>\n",
       "    <tr>\n",
       "      <th>89</th>\n",
       "      <td>Cambridge Tigers 1</td>\n",
       "      <td>KV 1</td>\n",
       "      <td>29.0</td>\n",
       "      <td>25.0</td>\n",
       "    </tr>\n",
       "  </tbody>\n",
       "</table>\n",
       "<p>90 rows × 4 columns</p>\n",
       "</div>"
      ],
      "text/plain": [
       "             Home Team          Away Team  Home Score  Away Score\n",
       "0    Bristol Thunder 1           Nomads 1        20.0        21.0\n",
       "1         Kingfisher 1               KV 1        23.0        17.0\n",
       "2            Trojans 1        Tornadoes 1        21.0        14.0\n",
       "3   Cambridge Tigers 1  Birmingham City 1        13.0        15.0\n",
       "4                Bec 1  Norwich Knights 1        16.0        22.0\n",
       "..                 ...                ...         ...         ...\n",
       "85   Birmingham City 1       Kingfisher 1        14.0        23.0\n",
       "86            Nomads 1        Tornadoes 1        29.0        35.0\n",
       "87   Norwich Knights 1              Bec 1        16.0        20.0\n",
       "88           Trojans 1       Kingfisher 1        31.0        11.0\n",
       "89  Cambridge Tigers 1               KV 1        29.0        25.0\n",
       "\n",
       "[90 rows x 4 columns]"
      ]
     },
     "execution_count": 4,
     "metadata": {},
     "output_type": "execute_result"
    }
   ],
   "source": [
    "nl_1819"
   ]
  },
  {
   "cell_type": "markdown",
   "metadata": {},
   "source": [
    "We imported a csv as a pandas dataframe, which contains various information for each of the 90 NKL games in the 2018-19 England Korfball National League season. We restricted the dataframe columns in which we're interested (specifically, team names and number of goals scored by each team). \n",
    "\n",
    "Our task is to model the final round of fixtures in the season, so we must remove the last 5 rows (each gameweek consists of 5 matches)."
   ]
  },
  {
   "cell_type": "code",
   "execution_count": 5,
   "metadata": {},
   "outputs": [],
   "source": [
    "nl_1819 = nl_1819[: -10]"
   ]
  },
  {
   "cell_type": "code",
   "execution_count": 6,
   "metadata": {},
   "outputs": [
    {
     "data": {
      "text/plain": [
       "Home Score    21.8500\n",
       "Away Score    22.3125\n",
       "dtype: float64"
      ]
     },
     "execution_count": 6,
     "metadata": {},
     "output_type": "execute_result"
    }
   ],
   "source": [
    "nl_1819.mean()"
   ]
  },
  {
   "cell_type": "markdown",
   "metadata": {},
   "source": [
    "You'll notice that, on average, the home team scores fewer goals than the away team. This is against the so called 'home (field) advantage' (discussed [here](https://jogall.github.io/2017-05-12-home-away-pref/) and isn't specific to [korfball](http://bleacherreport.com/articles/1803416-is-home-field-advantage-as-important-in-baseball-as-other-major-sports). This is a convenient time to introduce the [Poisson distribution](https://en.wikipedia.org/wiki/Poisson_distribution). It's a discrete probability distribution that describes the probability of the number of events within a specific time period (e.g. 60 mins) with a known average rate of occurence. A key assumption is that the number of events is independent of time. In our context, this means that goals don't become more/less likely by the number of goals already scored in the match. Instead, the number of goals is expressed purely as a function of an average rate of goals. If that was unclear, maybe this mathematical formulation will make it clearer:\n",
    "\n",
    "$P(x) = \\frac{e^{-\\lambda}\\lambda^{x}}{x!), \\lambda > 0$\n",
    "\n",
    "$\\lambda$ represents the average rate (e.g. average number of goals, average number of letters you receive, etc.). So, we can treat the number of goals scored by the home and away team as two independent Poisson distributions. The plot below shows the proporttion of goals scored compared to the number of goals estimated by the corresponding Poisson distributions."
   ]
  },
  {
   "cell_type": "code",
   "execution_count": 7,
   "metadata": {},
   "outputs": [
    {
     "data": {
      "image/png": "[encoded data removed]",
      "text/plain": [
       "<Figure size 864x360 with 1 Axes>"
      ]
     },
     "metadata": {
      "needs_background": "light"
     },
     "output_type": "display_data"
    }
   ],
   "source": [
    "poisson_pred = np.column_stack([[poisson.pmf(i, nl_1819.mean()[j]) \n",
    "                                 for i in range(46)] \n",
    "                                 for j in range(2)])\n",
    "\n",
    "plt.figure(figsize=(12,5))\n",
    "# plot histogram of actual goals\n",
    "plt.hist(nl_1819[['Home Score', 'Away Score']].values, range(47),\n",
    "         alpha=0.7, label=['Home', 'Away'], density=True, color=['#FFA07A', '#20B2AA'])\n",
    "\n",
    "# add lines for the Poisson distributions\n",
    "pois1, = plt.plot([i-0.5 for i in range(1, 47)], poisson_pred[:,0],\n",
    "                  linestyle='-', marker='o', label=\"Home\", color='#CD5C5C',)\n",
    "pois2, = plt.plot([i-0.5 for i in range(1, 47)], poisson_pred[:,1],\n",
    "                  linestyle='-', marker='o', label=\"Away\", color='#006400')\n",
    "\n",
    "leg = plt.legend(loc='upper right', fontsize=13, ncol=2)\n",
    "leg.set_title('Poisson             Actual        ', prop={'size': 14, 'weight': 'bold'})\n",
    "plt.xticks([i-0.5 for i in range(1, 47)], [i for i in range(47)])\n",
    "plt.xlabel(\"Goals per Match\", size=13)\n",
    "plt.ylabel(\"Proportion of Matches\", size=13)\n",
    "plt.title(\"Number of Goals per Match (EKL 2018/19 Season)\", size=14, fontweight='bold')\n",
    "plt.ylim([-0.004, 0.125])\n",
    "plt.tight_layout()\n",
    "plt.show()"
   ]
  },
  {
   "cell_type": "markdown",
   "metadata": {},
   "source": [
    "We can use this statistical model to estimate the probability of specific events.\n",
    "\n",
    "$$\n",
    "\\begin{align*}\n",
    "P(\\geq 30|\\text{Home}) &= P(20|\\text{Home}) + P(21|\\text{Home})  +  ...\\\\\n",
    "               &= 0.082 + 0.085 + ...\\\\\n",
    "               &= 0.683   \n",
    "\\end{align*}\n",
    "$$\n",
    "The probability of a draw is simply the sum of the events where the two teams score the same amount of goals\n",
    "\n",
    "$$\n",
    "\\begin{align*}\n",
    "P(\\text{Draw}) &= P(0|\\text{Home}) \\times P(0|\\text{Away}) + P(1|\\text{Home}) \\times P(1|\\text{Away}) + ...\\\\\n",
    "    &= 0.000 \\times 0.000 + 0.000 \\times 0.000 + ... \\\\\n",
    "    &= 0.06 \n",
    "\\end{align*}\n",
    "$$\n",
    "\n",
    "Note that we consider the number of goals scored by each team to be independent events (i.e. P(A n B) = P(A)P(B)). The difference of two Poisson distributions is actually called a [Skellam distribution](https://en.wikipedia.org/wiki/Skellam_distribution). So we can calculate the probability of a draw by inputting the mean goal values into this distribution."
   ]
  },
  {
   "cell_type": "code",
   "execution_count": 8,
   "metadata": {},
   "outputs": [
    {
     "data": {
      "text/plain": [
       "0.06006022024029264"
      ]
     },
     "execution_count": 8,
     "metadata": {},
     "output_type": "execute_result"
    }
   ],
   "source": [
    "# probability of draw between home and away team\n",
    "skellam.pmf(0.0, nl_1819.mean()[0], nl_1819.mean()[1])"
   ]
  },
  {
   "cell_type": "code",
   "execution_count": 9,
   "metadata": {},
   "outputs": [
    {
     "data": {
      "text/plain": [
       "0.058757644996049685"
      ]
     },
     "execution_count": 9,
     "metadata": {},
     "output_type": "execute_result"
    }
   ],
   "source": [
    "# probability of home team winning by one goal\n",
    "skellam.pmf(1, nl_1819.mean()[0], nl_1819.mean()[1])"
   ]
  },
  {
   "cell_type": "code",
   "execution_count": 10,
   "metadata": {},
   "outputs": [
    {
     "data": {
      "image/png": "[encoded data removed]",
      "text/plain": [
       "<Figure size 864x360 with 1 Axes>"
      ]
     },
     "metadata": {
      "needs_background": "light"
     },
     "output_type": "display_data"
    }
   ],
   "source": [
    "skellam_pred = [skellam.pmf(i, nl_1819.mean()[0], nl_1819.mean()[1]) for i in range (-30, 30)]\n",
    "\n",
    "plt.figure(figsize=(12,5))\n",
    "plt.hist(nl_1819[['Home Score']].values - nl_1819[['Away Score']].values, range(-30,30), \n",
    "         alpha=0.7, label='Actual', density=True, edgecolor='white')\n",
    "plt.plot([i+0.5 for i in range(-30, 30)], skellam_pred,\n",
    "         linestyle='-', marker='o', label='Skellam', color='#CD5C5C')\n",
    "plt.legend(loc='upper right', fontsize=13)\n",
    "plt.xticks([i+0.5 for i in range(-30,30)], [i for i in range(-30, 30)])\n",
    "plt.xlabel(\"Home Goals - Away Goals\", size=13)\n",
    "plt.ylabel(\"Proportion of Matches\", size=13)\n",
    "plt.title(\"Difference in Goals Scored (Home Team vs Away Team)\", size=14, fontweight='bold')\n",
    "plt.ylim([-0.004, 0.08])\n",
    "plt.tight_layout()\n",
    "plt.show()"
   ]
  },
  {
   "cell_type": "markdown",
   "metadata": {},
   "source": [
    "So, hopefully you can see how we can adapt this approach to model specific matches. We just need to know the average number of goals scored by each team and feed this data into a Poisson model. Let's have a look at the distribution of goals scored by Trojans and Birmingham City (teams who finished 1st and last, respectively)."
   ]
  },
  {
   "cell_type": "code",
   "execution_count": 11,
   "metadata": {},
   "outputs": [],
   "source": [
    "\n",
    "tro_home = nl_1819[nl_1819['Home Team']=='Trojans 1'][['Home Score']].apply(\n",
    "    pd.value_counts, normalize=True)\n",
    "tro_home_pois = [poisson.pmf(i, np.sum(np.multiply(tro_home.values.T, \n",
    "                                                    tro_home.index.T),axis=1)[0]) \n",
    "                  for i in range(45)]\n",
    "\n",
    "brum_home = nl_1819[nl_1819['Home Team']=='Birmingham City 1'][['Home Score']].apply(\n",
    "    pd.value_counts, normalize=True)\n",
    "\n",
    "brum_home_pois = [poisson.pmf(i, np.sum(np.multiply(brum_home.values.T,\n",
    "                                                     brum_home.index.T),axis=1)[0])\n",
    "                   for i in range(45)]\n",
    "\n",
    "tro_away = nl_1819[nl_1819['Away Team']=='Trojans 1'][['Away Score']].apply(\n",
    "    pd.value_counts, normalize=True)\n",
    "tro_away_pois = [poisson.pmf(i, np.sum(np.multiply(tro_away.values.T, \n",
    "                                                    tro_away.index.T),axis=1)[0]) \n",
    "                  for i in range(45)]\n",
    "\n",
    "brum_away = nl_1819[nl_1819['Away Team']=='Birmingham City 1'][['Away Score']].apply(\n",
    "    pd.value_counts, normalize=True)\n",
    "\n",
    "brum_away_pois = [poisson.pmf(i, np.sum(np.multiply(brum_away.values.T,\n",
    "                                                     brum_away.index.T),axis=1)[0])\n",
    "                   for i in range(45)]\n",
    "\n"
   ]
  },
  {
   "cell_type": "code",
   "execution_count": 12,
   "metadata": {},
   "outputs": [
    {
     "data": {
      "image/png": "[encoded data removed]",
      "text/plain": [
       "<Figure size 792x432 with 2 Axes>"
      ]
     },
     "metadata": {
      "needs_background": "light"
     },
     "output_type": "display_data"
    }
   ],
   "source": [
    "fig , (ax1, ax2) = plt.subplots(2, 1, figsize=(11,6))\n",
    "\n",
    "\n",
    "ax1.bar(tro_home.index-0.4,tro_home['Home Score'].values,width=0.4,color='#034694',label='Trojans')\n",
    "ax1.bar(brum_home.index,brum_home['Home Score'].values,width=0.4,color='#EB172B',label='Birmingham City')\n",
    "pois1, = ax1.plot([i for i in range(45)], tro_home_pois,\n",
    "                  linestyle='-', marker='o', label='Trojans', color='#0a7bff')\n",
    "pois1, = ax1.plot([i for i in range(45)], brum_home_pois, \n",
    "                  linestyle='-', marker='o', label='Birmingham City', color='#ff7c89')\n",
    "leg=ax1.legend(loc='upper right', fontsize=12, ncol=2)\n",
    "leg.set_title('Poisson                Actual                ',prop={'size':'14', 'weight':'bold'})\n",
    "ax1.set_xlim([-0.5, 45.5])\n",
    "ax1.set_ylim([-0.01, 0.35])\n",
    "ax1.set_xticklabels([])\n",
    "# mimicing the facet plots in ggplot2 with a bit of a hack\n",
    "ax1.text(46, 0.01, '                   Home                    ', rotation=-90,\n",
    "        bbox={'facecolor': '#ffbcf6', 'alpha':0.5, 'pad':5})\n",
    "ax2.text(46, 0.01, '                   Away                    ', rotation=-90,\n",
    "        bbox={'facecolor': '#ffbcf6', 'alpha':0.5, 'pad':5})\n",
    "ax2.bar(tro_away.index-0.4,tro_away['Away Score'].values,width=0.4,color='#034694',label='Bec')\n",
    "ax2.bar(brum_away.index,brum_away['Away Score'].values,width=0.4,color='#EB172B',label='Birmingham City')\n",
    "pois1, = ax2.plot([i for i in range(45)], tro_away_pois,\n",
    "                  linestyle='-', marker='o',label=\"Trojans\", color = \"#0a7bff\")\n",
    "pois1, = ax2.plot([i for i in range(45)], brum_away_pois,\n",
    "                  linestyle='-', marker='o',label=\"Birmingham City\", color = \"#ff7c89\")\n",
    "ax2.set_xlim([-0.5,45.5])\n",
    "ax2.set_ylim([-0.01,0.35])\n",
    "ax1.set_title(\"Number of Goals per Match (EKL 2016/17 Season)\",size=15,fontweight='bold')\n",
    "ax2.set_xlabel(\"Goals per Match\",size=14)\n",
    "ax2.text(-4, 0, 'Proportion of Matches', rotation=90, size=14)\n",
    "plt.tight_layout()\n",
    "plt.show()"
   ]
  },
  {
   "cell_type": "markdown",
   "metadata": {},
   "source": [
    "## Building A Model\n",
    "You should now be convinved that the number of goals scored by each team can be approximated by a Poisson distribution. Due to a relatively sample size ( each team plays at most 9 home/away games), the accuracy of this approximation can vary significantly (especially earlier in the season when teams have played fewer games). Similar to before, we could now calculate the probability of various events in this Trojans - Birmingham City match. But rather tan treat each match separately, we'll build a more general Poisson regression model ([what is that?](https://en.wikipedia.org/wiki/Poisson_regression))."
   ]
  },
  {
   "cell_type": "code",
   "execution_count": 13,
   "metadata": {},
   "outputs": [
    {
     "data": {
      "text/html": [
       "<table class=\"simpletable\">\n",
       "<caption>Generalized Linear Model Regression Results</caption>\n",
       "<tr>\n",
       "  <th>Dep. Variable:</th>         <td>goals</td>      <th>  No. Observations:  </th>  <td>   160</td> \n",
       "</tr>\n",
       "<tr>\n",
       "  <th>Model:</th>                  <td>GLM</td>       <th>  Df Residuals:      </th>  <td>   140</td> \n",
       "</tr>\n",
       "<tr>\n",
       "  <th>Model Family:</th>         <td>Poisson</td>     <th>  Df Model:          </th>  <td>    19</td> \n",
       "</tr>\n",
       "<tr>\n",
       "  <th>Link Function:</th>          <td>log</td>       <th>  Scale:             </th> <td>  1.0000</td>\n",
       "</tr>\n",
       "<tr>\n",
       "  <th>Method:</th>                <td>IRLS</td>       <th>  Log-Likelihood:    </th> <td> -451.20</td>\n",
       "</tr>\n",
       "<tr>\n",
       "  <th>Date:</th>            <td>Fri, 07 Aug 2020</td> <th>  Deviance:          </th> <td>  121.85</td>\n",
       "</tr>\n",
       "<tr>\n",
       "  <th>Time:</th>                <td>14:21:33</td>     <th>  Pearson chi2:      </th>  <td>  120.</td> \n",
       "</tr>\n",
       "<tr>\n",
       "  <th>No. Iterations:</th>          <td>4</td>        <th>                     </th>     <td> </td>   \n",
       "</tr>\n",
       "<tr>\n",
       "  <th>Covariance Type:</th>     <td>nonrobust</td>    <th>                     </th>     <td> </td>   \n",
       "</tr>\n",
       "</table>\n",
       "<table class=\"simpletable\">\n",
       "<tr>\n",
       "                 <td></td>                   <th>coef</th>     <th>std err</th>      <th>z</th>      <th>P>|z|</th>  <th>[0.025</th>    <th>0.975]</th>  \n",
       "</tr>\n",
       "<tr>\n",
       "  <th>Intercept</th>                      <td>    2.9782</td> <td>    0.083</td> <td>   35.977</td> <td> 0.000</td> <td>    2.816</td> <td>    3.140</td>\n",
       "</tr>\n",
       "<tr>\n",
       "  <th>team[T.Birmingham City 1]</th>      <td>   -0.6663</td> <td>    0.084</td> <td>   -7.914</td> <td> 0.000</td> <td>   -0.831</td> <td>   -0.501</td>\n",
       "</tr>\n",
       "<tr>\n",
       "  <th>team[T.Bristol Thunder 1]</th>      <td>   -0.3956</td> <td>    0.078</td> <td>   -5.057</td> <td> 0.000</td> <td>   -0.549</td> <td>   -0.242</td>\n",
       "</tr>\n",
       "<tr>\n",
       "  <th>team[T.Cambridge Tigers 1]</th>     <td>   -0.2381</td> <td>    0.078</td> <td>   -3.063</td> <td> 0.002</td> <td>   -0.390</td> <td>   -0.086</td>\n",
       "</tr>\n",
       "<tr>\n",
       "  <th>team[T.KV 1]</th>                   <td>   -0.2246</td> <td>    0.076</td> <td>   -2.949</td> <td> 0.003</td> <td>   -0.374</td> <td>   -0.075</td>\n",
       "</tr>\n",
       "<tr>\n",
       "  <th>team[T.Kingfisher 1]</th>           <td>   -0.1268</td> <td>    0.073</td> <td>   -1.742</td> <td> 0.081</td> <td>   -0.270</td> <td>    0.016</td>\n",
       "</tr>\n",
       "<tr>\n",
       "  <th>team[T.Nomads 1]</th>               <td>   -0.1438</td> <td>    0.072</td> <td>   -1.986</td> <td> 0.047</td> <td>   -0.286</td> <td>   -0.002</td>\n",
       "</tr>\n",
       "<tr>\n",
       "  <th>team[T.Norwich Knights 1]</th>      <td>    0.0825</td> <td>    0.068</td> <td>    1.211</td> <td> 0.226</td> <td>   -0.051</td> <td>    0.216</td>\n",
       "</tr>\n",
       "<tr>\n",
       "  <th>team[T.Tornadoes 1]</th>            <td>    0.0738</td> <td>    0.070</td> <td>    1.059</td> <td> 0.290</td> <td>   -0.063</td> <td>    0.210</td>\n",
       "</tr>\n",
       "<tr>\n",
       "  <th>team[T.Trojans 1]</th>              <td>    0.1269</td> <td>    0.069</td> <td>    1.849</td> <td> 0.064</td> <td>   -0.008</td> <td>    0.261</td>\n",
       "</tr>\n",
       "<tr>\n",
       "  <th>opponent[T.Birmingham City 1]</th>  <td>    0.3001</td> <td>    0.080</td> <td>    3.751</td> <td> 0.000</td> <td>    0.143</td> <td>    0.457</td>\n",
       "</tr>\n",
       "<tr>\n",
       "  <th>opponent[T.Bristol Thunder 1]</th>  <td>    0.4743</td> <td>    0.078</td> <td>    6.096</td> <td> 0.000</td> <td>    0.322</td> <td>    0.627</td>\n",
       "</tr>\n",
       "<tr>\n",
       "  <th>opponent[T.Cambridge Tigers 1]</th> <td>    0.3871</td> <td>    0.082</td> <td>    4.749</td> <td> 0.000</td> <td>    0.227</td> <td>    0.547</td>\n",
       "</tr>\n",
       "<tr>\n",
       "  <th>opponent[T.KV 1]</th>               <td>    0.3451</td> <td>    0.082</td> <td>    4.193</td> <td> 0.000</td> <td>    0.184</td> <td>    0.506</td>\n",
       "</tr>\n",
       "<tr>\n",
       "  <th>opponent[T.Kingfisher 1]</th>       <td>    0.2868</td> <td>    0.082</td> <td>    3.507</td> <td> 0.000</td> <td>    0.127</td> <td>    0.447</td>\n",
       "</tr>\n",
       "<tr>\n",
       "  <th>opponent[T.Nomads 1]</th>           <td>    0.4023</td> <td>    0.080</td> <td>    5.055</td> <td> 0.000</td> <td>    0.246</td> <td>    0.558</td>\n",
       "</tr>\n",
       "<tr>\n",
       "  <th>opponent[T.Norwich Knights 1]</th>  <td>    0.0297</td> <td>    0.087</td> <td>    0.341</td> <td> 0.733</td> <td>   -0.141</td> <td>    0.200</td>\n",
       "</tr>\n",
       "<tr>\n",
       "  <th>opponent[T.Tornadoes 1]</th>        <td>    0.1935</td> <td>    0.084</td> <td>    2.298</td> <td> 0.022</td> <td>    0.028</td> <td>    0.359</td>\n",
       "</tr>\n",
       "<tr>\n",
       "  <th>opponent[T.Trojans 1]</th>          <td>    0.0230</td> <td>    0.089</td> <td>    0.258</td> <td> 0.796</td> <td>   -0.152</td> <td>    0.198</td>\n",
       "</tr>\n",
       "<tr>\n",
       "  <th>home</th>                           <td>   -0.0338</td> <td>    0.034</td> <td>   -0.995</td> <td> 0.320</td> <td>   -0.100</td> <td>    0.033</td>\n",
       "</tr>\n",
       "</table>"
      ],
      "text/plain": [
       "<class 'statsmodels.iolib.summary.Summary'>\n",
       "\"\"\"\n",
       "                 Generalized Linear Model Regression Results                  \n",
       "==============================================================================\n",
       "Dep. Variable:                  goals   No. Observations:                  160\n",
       "Model:                            GLM   Df Residuals:                      140\n",
       "Model Family:                 Poisson   Df Model:                           19\n",
       "Link Function:                    log   Scale:                          1.0000\n",
       "Method:                          IRLS   Log-Likelihood:                -451.20\n",
       "Date:                Fri, 07 Aug 2020   Deviance:                       121.85\n",
       "Time:                        14:21:33   Pearson chi2:                     120.\n",
       "No. Iterations:                     4                                         \n",
       "Covariance Type:            nonrobust                                         \n",
       "==================================================================================================\n",
       "                                     coef    std err          z      P>|z|      [0.025      0.975]\n",
       "--------------------------------------------------------------------------------------------------\n",
       "Intercept                          2.9782      0.083     35.977      0.000       2.816       3.140\n",
       "team[T.Birmingham City 1]         -0.6663      0.084     -7.914      0.000      -0.831      -0.501\n",
       "team[T.Bristol Thunder 1]         -0.3956      0.078     -5.057      0.000      -0.549      -0.242\n",
       "team[T.Cambridge Tigers 1]        -0.2381      0.078     -3.063      0.002      -0.390      -0.086\n",
       "team[T.KV 1]                      -0.2246      0.076     -2.949      0.003      -0.374      -0.075\n",
       "team[T.Kingfisher 1]              -0.1268      0.073     -1.742      0.081      -0.270       0.016\n",
       "team[T.Nomads 1]                  -0.1438      0.072     -1.986      0.047      -0.286      -0.002\n",
       "team[T.Norwich Knights 1]          0.0825      0.068      1.211      0.226      -0.051       0.216\n",
       "team[T.Tornadoes 1]                0.0738      0.070      1.059      0.290      -0.063       0.210\n",
       "team[T.Trojans 1]                  0.1269      0.069      1.849      0.064      -0.008       0.261\n",
       "opponent[T.Birmingham City 1]      0.3001      0.080      3.751      0.000       0.143       0.457\n",
       "opponent[T.Bristol Thunder 1]      0.4743      0.078      6.096      0.000       0.322       0.627\n",
       "opponent[T.Cambridge Tigers 1]     0.3871      0.082      4.749      0.000       0.227       0.547\n",
       "opponent[T.KV 1]                   0.3451      0.082      4.193      0.000       0.184       0.506\n",
       "opponent[T.Kingfisher 1]           0.2868      0.082      3.507      0.000       0.127       0.447\n",
       "opponent[T.Nomads 1]               0.4023      0.080      5.055      0.000       0.246       0.558\n",
       "opponent[T.Norwich Knights 1]      0.0297      0.087      0.341      0.733      -0.141       0.200\n",
       "opponent[T.Tornadoes 1]            0.1935      0.084      2.298      0.022       0.028       0.359\n",
       "opponent[T.Trojans 1]              0.0230      0.089      0.258      0.796      -0.152       0.198\n",
       "home                              -0.0338      0.034     -0.995      0.320      -0.100       0.033\n",
       "==================================================================================================\n",
       "\"\"\""
      ]
     },
     "execution_count": 13,
     "metadata": {},
     "output_type": "execute_result"
    }
   ],
   "source": [
    "# importing the tools required for the Poisson regression model\n",
    "import statsmodels.api as sm\n",
    "import statsmodels.formula.api as smf\n",
    "\n",
    "goal_model_data = pd.concat(\n",
    "    [nl_1819[['Home Team', 'Away Team', 'Home Score']].assign(home=1).rename(\n",
    "        columns={'Home Team': 'team', 'Away Team': 'opponent', 'Home Score': 'goals'}),\n",
    "    nl_1819[['Away Team', 'Home Team', 'Away Score']].assign(home=0).rename(\n",
    "        columns={'Away Team': 'team', 'Home Team': 'opponent', 'Away Score': 'goals'})])\n",
    "\n",
    "poisson_model = smf.glm(formula=\"goals ~ home + team + opponent\", data=goal_model_data,\n",
    "                       family=sm.families.Poisson()).fit()\n",
    "\n",
    "poisson_model.summary()"
   ]
  },
  {
   "cell_type": "markdown",
   "metadata": {},
   "source": [
    "If you're curious about the `smf.glm(...)` part, you can find more information [here](http://www.statsmodels.org/stable/examples/notebooks/generated/glm_formula.html). I'm more interested in the values presented in the `coef` column in the model summary table, which are analogous to the slopes in linear regression. Similar to [logistic regression](https://en.wikipedia.org/wiki/Logistic_regression), we take the [exponent of the parameter values](http://www.lisa.stat.vt.edu/sites/default/files/Poisson.and_.Logistic.Regression.pdf). A positive value implies more goals ($e^{x} > 1,  \\forall x > 0$), while values closer to zero represent more neutral effects ($e^{0} = 1$). Towards the bottom of the table you might notice that `home` has a `coef` of -0.0338. This captures the fact that home teams generally score fewer goals than the away team (specifically, $\\frac{1}{e^{-0.0338}}=1.03$ times more likely). But not all teams are created equal. Trojans has a `coef` of 0.1269, while the corresponding value for Birmingham City is -0.6663 (sort of saying Trojans (Birmingham City) are better (much worse!) scorers than average). Finally, the `opponent*` values penalize/reward teams based on the quality of the opposition. This reflects the defensive strength of each team (Trojans: 0.0230; Birmingham City: 0.3001). In other words, you're less likely to score against Trojans. Hopefully, that makes both statistical and intuitive sense.\n",
    "\n",
    "Let's start making somre predictions for the upcoming matches. We simply pass our teams into `poisson_model` and it'll return the expected average number of goals for that team (we need to run it twice- we calculate the expected average number of goals for each team separately). So let's see how many goals we expect Trojans and Birmingham City to score."
   ]
  },
  {
   "cell_type": "code",
   "execution_count": 14,
   "metadata": {},
   "outputs": [
    {
     "data": {
      "text/plain": [
       "1    29.120671\n",
       "dtype: float64"
      ]
     },
     "execution_count": 14,
     "metadata": {},
     "output_type": "execute_result"
    }
   ],
   "source": [
    "poisson_model.predict(pd.DataFrame(data={'team': 'Trojans 1', 'opponent': 'Birmingham City 1',\n",
    "                                         'home': 1}, index=[1]))"
   ]
  },
  {
   "cell_type": "code",
   "execution_count": 15,
   "metadata": {},
   "outputs": [
    {
     "data": {
      "text/plain": [
       "1    10.328497\n",
       "dtype: float64"
      ]
     },
     "execution_count": 15,
     "metadata": {},
     "output_type": "execute_result"
    }
   ],
   "source": [
    "poisson_model.predict(pd.DataFrame(data={'team': 'Birmingham City 1', 'opponent': 'Trojans 1',\n",
    "                                         'home': 0}, index=[1]))"
   ]
  },
  {
   "cell_type": "markdown",
   "metadata": {},
   "source": [
    "Just like before, we have two Poisson distributions. From this, we can calculate the probability of various events. I'll wrap this in a `simulate_match` function."
   ]
  },
  {
   "cell_type": "code",
   "execution_count": 16,
   "metadata": {},
   "outputs": [
    {
     "data": {
      "text/plain": [
       "array([[7.36960415e-18, 7.61169319e-17, 3.93086739e-16, ...,\n",
       "        4.81209294e-24, 1.27440220e-24, 3.29066472e-25],\n",
       "       [2.14607818e-16, 2.21657613e-15, 1.14469496e-14, ...,\n",
       "        1.40131375e-22, 3.71114473e-23, 9.58263648e-24],\n",
       "       [3.12476183e-15, 3.22740922e-14, 1.66671427e-13, ...,\n",
       "        2.04035984e-21, 5.40355123e-22, 1.39526402e-22],\n",
       "       ...,\n",
       "       [6.14576651e-07, 6.34765289e-06, 3.27808558e-05, ...,\n",
       "        4.01296990e-13, 1.06276785e-13, 2.74419855e-14],\n",
       "       [4.58894473e-07, 4.73969004e-06, 2.44769364e-05, ...,\n",
       "        2.99641990e-13, 7.93551614e-14, 2.04904880e-14],\n",
       "       [3.34082875e-07, 3.45057386e-06, 1.78196203e-05, ...,\n",
       "        2.18144395e-13, 5.77718887e-14, 1.49174190e-14]])"
      ]
     },
     "execution_count": 16,
     "metadata": {},
     "output_type": "execute_result"
    }
   ],
   "source": [
    "def simulate_match(korf_model, homeTeam, awayTeam, max_goals=45):\n",
    "    home_goals_avg = korf_model.predict(pd.DataFrame(data={'team': homeTeam,\n",
    "                                                           'opponent': awayTeam,\n",
    "                                                           'home': 1},\n",
    "                                                    index=[1])).values[0]\n",
    "    away_goals_avg = korf_model.predict(pd.DataFrame(data={'team': awayTeam,\n",
    "                                                           'opponent': homeTeam,\n",
    "                                                           'home': 0},\n",
    "                                                    index=[1])).values[0]\n",
    "    team_pred = [[poisson.pmf(i, team_avg) for i in range(max_goals+1)] \n",
    "                 for team_avg in [home_goals_avg, away_goals_avg]]\n",
    "    \n",
    "    return(np.outer(np.array(team_pred[0]), np.array(team_pred[1])))\n",
    "\n",
    "simulate_match(poisson_model, 'Trojans 1', 'Birmingham City 1', max_goals=40)\n"
   ]
  },
  {
   "cell_type": "markdown",
   "metadata": {},
   "source": [
    "This matrix simply shows the probability of Trojans (rows of the matrix) and Birmingham City (matrix columns) scoring a specific number of goals. For example, along the diagonal, both teams score the same number of goals (e.g. P(0-0)=0.000). So, you can calculate the odds of draw by summing all the diagonal entries. Everything below the diagonal represents a Trojans victory (e.g. P(30-10)=0.009). If you prefer Over/Under markets, you can estimate P(Under 39.5 goals) by summing the entries where the sum of the column number and row number (both starting at zero) is less than 36 (i.e. the 820 values that form the upper left triangle). Luckily, we can use basic matrix manipulation functions to perform these calculations."
   ]
  },
  {
   "cell_type": "code",
   "execution_count": 17,
   "metadata": {},
   "outputs": [
    {
     "data": {
      "text/plain": [
       "0.9769209743247839"
      ]
     },
     "execution_count": 17,
     "metadata": {},
     "output_type": "execute_result"
    }
   ],
   "source": [
    "tro_brum = simulate_match(poisson_model, 'Trojans 1', 'Birmingham City 1', max_goals=40)\n",
    "# Trojans win\n",
    "np.sum(np.tril(tro_brum, -1))"
   ]
  },
  {
   "cell_type": "code",
   "execution_count": 18,
   "metadata": {},
   "outputs": [
    {
     "data": {
      "text/plain": [
       "0.0005802748010776943"
      ]
     },
     "execution_count": 18,
     "metadata": {},
     "output_type": "execute_result"
    }
   ],
   "source": [
    "# draw\n",
    "np.sum(np.diag(tro_brum))"
   ]
  },
  {
   "cell_type": "code",
   "execution_count": 19,
   "metadata": {},
   "outputs": [
    {
     "data": {
      "text/plain": [
       "0.000759595615479841"
      ]
     },
     "execution_count": 19,
     "metadata": {},
     "output_type": "execute_result"
    }
   ],
   "source": [
    "# Birmingham City win\n",
    "np.sum(np.triu(tro_brum, 1))"
   ]
  },
  {
   "cell_type": "markdown",
   "metadata": {},
   "source": [
    "Hmm, out models gives Birmingham City a 0.08% chance of winning. But is that right? To asses the accuracy of the predictions, we'll compare the probabilites returned by our model against the odds offered by the Betfair exchange."
   ]
  },
  {
   "cell_type": "code",
   "execution_count": null,
   "metadata": {},
   "outputs": [],
   "source": []
  },
  {
   "cell_type": "markdown",
   "metadata": {},
   "source": [
    "## Something's Poissony\n",
    "\n",
    "Should we bet the house on Trojans beating Kingfisher? Probably note (though they did win!). There's some non-statistical reasons to resist backing them. \n",
    "\n",
    "In a similar fashion, injuries/suspensions to key players, and other factors would render our model inaccurate. Never underestimate the importance of domain knowledge in statistical modelling/machine learning! We could also think of improvements to the model that would [incorporate time when considering previous matches](http://opisthokonta.net/?p=890) (i.e. more recent matches should be weighted more strongly).\n",
    "\n",
    "Statistically speaking, is a Poisson distribution even appropriate? Our model was founded on the belief that the number of goals can be accurately expressed as a Poisson distribution. If that assumption is misguided, then the model outputs will be unreliable. Given a Poisson distribution with mean $\\lambda$ , then the number of events in half that time period follows a Poisson distribution with mean $\\lambda/2$. In korfball terms, according to our Poisson model, there should be an equal number of goals in the first and second halves. Unfortunately, that doesn't appear to hold true.\n"
   ]
  },
  {
   "cell_type": "markdown",
   "metadata": {},
   "source": [
    "## Summary \n",
    "We built a simple Poisson model to predict the results of the English National Korfball League matches. Despite its inherent flaws, it recreates several features that would be a neccessity for any predictive korfball model (home advantage, varying offensive strengths and opposition quality). In conclusion, don't wager the rent money, but it's a good starting point for more sophisticated models. Thanks for reading!"
   ]
  },
  {
   "cell_type": "code",
   "execution_count": null,
   "metadata": {},
   "outputs": [],
   "source": []
  }
 ],
 "metadata": {
  "kernelspec": {
   "display_name": "Python 3",
   "language": "python",
   "name": "python3"
  },
  "language_info": {
   "codemirror_mode": {
    "name": "ipython",
    "version": 3
   },
   "file_extension": ".py",
   "mimetype": "text/x-python",
   "name": "python",
   "nbconvert_exporter": "python",
   "pygments_lexer": "ipython3",
   "version": "3.7.6"
  }
 },
 "nbformat": 4,
 "nbformat_minor": 4
}
