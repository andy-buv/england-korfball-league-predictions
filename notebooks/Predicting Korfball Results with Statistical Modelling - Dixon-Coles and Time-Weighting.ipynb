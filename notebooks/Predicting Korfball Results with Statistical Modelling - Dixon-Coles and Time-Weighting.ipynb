{
 "cells": [
  {
   "cell_type": "markdown",
   "metadata": {},
   "source": [
    "Predicting Korfball Results with Statistical Modelling: Dixon-Coles and Time-Weighting\n",
    "====\n",
    "*This post describes two popular improvements to the standard Poisson model for football predictions applied to korfball, collectively known as the Dixon-Coles model*\n",
    "\n",
    "In an earlier post, I showed how to build a simple Poisson model to crudely predict the outcome of korfball matches. In the same way teams herald slight changes to their traditional plain coloured jerseys as ground breaking, I thought I'd show how the basic model could be tweaked and improved in order to achieve revolutionary status.\n",
    "\n",
    "The changes are motivated by a combination of intuition and statistics. The [Dixon-Coles](http://web.math.ku.dk/~rolf/teaching/thesis/DixonColes.pdf) model (named after the paper's authors) corrects for the basic model's underestimation of draws and it also incorporated a time component so that recent matches are considered more important in calculating average goals rate. This isn't a particularly nodel idea for a blog post. There are numerous implementations of the Dixon-Coles model out there. Like any niche statistical modelling exercise, however, they are mostly available in R. I strongly recommend the excellent [opisthokonta blog](http://opisthokonta.net/?cat=48), especially if you're interested in more advanced models. \n",
    "\n",
    "## Data\n",
    "\n",
    "We'll initially pull the match results for the EKL 2018/2019 season from [fixtureslive.com](https://w.fixtureslive.com/comp/57863/table/England-Korfball-National-League-EKL-Premier-Division-2018-19). This code is pretty much the same as last time."
   ]
  },
  {
   "cell_type": "code",
   "execution_count": 1,
   "metadata": {},
   "outputs": [
    {
     "name": "stderr",
     "output_type": "stream",
     "text": [
      "/Users/andrewbovey/opt/anaconda3/envs/tf2/lib/python3.7/importlib/_bootstrap.py:219: RuntimeWarning: numpy.ufunc size changed, may indicate binary incompatibility. Expected 192 from C header, got 216 from PyObject\n",
      "  return f(*args, **kwds)\n",
      "/Users/andrewbovey/opt/anaconda3/envs/tf2/lib/python3.7/importlib/_bootstrap.py:219: RuntimeWarning: numpy.ufunc size changed, may indicate binary incompatibility. Expected 192 from C header, got 216 from PyObject\n",
      "  return f(*args, **kwds)\n",
      "/Users/andrewbovey/opt/anaconda3/envs/tf2/lib/python3.7/importlib/_bootstrap.py:219: RuntimeWarning: numpy.ufunc size changed, may indicate binary incompatibility. Expected 192 from C header, got 216 from PyObject\n",
      "  return f(*args, **kwds)\n",
      "/Users/andrewbovey/opt/anaconda3/envs/tf2/lib/python3.7/importlib/_bootstrap.py:219: RuntimeWarning: numpy.ufunc size changed, may indicate binary incompatibility. Expected 192 from C header, got 216 from PyObject\n",
      "  return f(*args, **kwds)\n"
     ]
    }
   ],
   "source": [
    "import pandas as pd\n",
    "import matplotlib.pyplot as plt\n",
    "import numpy as np\n",
    "import seaborn as sns\n",
    "from scipy.stats import poisson, skellam\n",
    "from scipy.optimize import minimize\n",
    "\n"
   ]
  },
  {
   "cell_type": "code",
   "execution_count": null,
   "metadata": {},
   "outputs": [],
   "source": []
  }
 ],
 "metadata": {
  "kernelspec": {
   "display_name": "Python 3",
   "language": "python",
   "name": "python3"
  },
  "language_info": {
   "codemirror_mode": {
    "name": "ipython",
    "version": 3
   },
   "file_extension": ".py",
   "mimetype": "text/x-python",
   "name": "python",
   "nbconvert_exporter": "python",
   "pygments_lexer": "ipython3",
   "version": "3.7.6"
  }
 },
 "nbformat": 4,
 "nbformat_minor": 4
}
